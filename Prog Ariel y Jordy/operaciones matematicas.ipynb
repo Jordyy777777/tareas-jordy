{
 "cells": [
  {
   "cell_type": "code",
   "execution_count": null,
   "id": "17f96471-2cd3-46fe-97cc-c2eb9bab7d63",
   "metadata": {},
   "outputs": [],
   "source": [
    "X = -b+-√(b^2-4ac)/2a"
   ]
  },
  {
   "cell_type": "code",
   "execution_count": null,
   "id": "d053282f-c87d-4ea6-8cac-b2a6909bbf3f",
   "metadata": {},
   "outputs": [],
   "source": [
    "import math\n",
    "a = float (input(\"escribir AX^2\"))\n",
    "b = float (input(\"escribir Bx\"))\n",
    "c = float (input(\"escribir C\"))\n",
    "\n",
    "x1 = -(b)+ math.sqrt(pow(b,2)-(4*a*c))/(2*a)\n",
    "x2 = -(b)- math.sqrt(pow(b,2)-(4*a*c))/(2*a)\n",
    "\n",
    "print (\"el valor de x1 es:\", x1)\n",
    "print (\"el valor de x1 es:\",x2)\n"
   ]
  },
  {
   "cell_type": "code",
   "execution_count": null,
   "id": "b05c02b1-86c6-441e-bd7e-63419a095e4f",
   "metadata": {},
   "outputs": [],
   "source": [
    "print (\"ejercicio #2\")"
   ]
  },
  {
   "cell_type": "code",
   "execution_count": null,
   "id": "fb836431-d0ce-4d07-941d-883a028c1acf",
   "metadata": {},
   "outputs": [],
   "source": [
    "\"x = (b  x  a) /2\""
   ]
  },
  {
   "cell_type": "code",
   "execution_count": null,
   "id": "759c9a4a-5234-480f-97ef-c55e35643c72",
   "metadata": {},
   "outputs": [],
   "source": [
    "import math\n",
    "b=  float (input (\"escribirel valor de B\"))\n",
    "a=  float (input (\"escribirel valor de A\")) \n",
    "\n",
    "x =(b*a)\n",
    "\n",
    "print (\"El area de un rectangulo es igual a\",x)"
   ]
  },
  {
   "cell_type": "code",
   "execution_count": null,
   "id": "0e3fe332-fa0d-42fe-97a8-98cfad1fcb8c",
   "metadata": {},
   "outputs": [],
   "source": [
    "print (\"ejercicio #3\")"
   ]
  },
  {
   "cell_type": "code",
   "execution_count": 1,
   "id": "f94f8253-f711-4e3c-9836-c21c610626a4",
   "metadata": {},
   "outputs": [
    {
     "name": "stdin",
     "output_type": "stream",
     "text": [
      "escribirel valor de B 12\n",
      "escribirel valor de A 23\n"
     ]
    },
    {
     "name": "stdout",
     "output_type": "stream",
     "text": [
      "El area de un triangulo es igual a 138.0\n"
     ]
    }
   ],
   "source": [
    "import math\n",
    "b=  float (input (\"escribirel valor de B\"))\n",
    "a=  float (input (\"escribirel valor de A\")) \n",
    "\n",
    "x =(b * a)/ 2\n",
    "\n",
    "print (\"El area de un triangulo es igual a\",x)"
   ]
  },
  {
   "cell_type": "code",
   "execution_count": 2,
   "id": "d7a0965b-7636-45e3-8778-ae5ddd1637a1",
   "metadata": {},
   "outputs": [
    {
     "data": {
      "text/plain": [
       "False"
      ]
     },
     "execution_count": 2,
     "metadata": {},
     "output_type": "execute_result"
    }
   ],
   "source": [
    "3 == 2"
   ]
  },
  {
   "cell_type": "code",
   "execution_count": 4,
   "id": "f1a01ed4-3349-4cc7-971e-0d85de306c3a",
   "metadata": {},
   "outputs": [
    {
     "data": {
      "text/plain": [
       "True"
      ]
     },
     "execution_count": 4,
     "metadata": {},
     "output_type": "execute_result"
    }
   ],
   "source": [
    "3 != 2"
   ]
  },
  {
   "cell_type": "code",
   "execution_count": 19,
   "id": "a85d24a4-c428-4c16-9402-9531be6479e5",
   "metadata": {},
   "outputs": [
    {
     "name": "stdin",
     "output_type": "stream",
     "text": [
      "Ingrese un numero:  3\n"
     ]
    },
    {
     "name": "stdout",
     "output_type": "stream",
     "text": [
      "Es impar\n"
     ]
    }
   ],
   "source": [
    "numero = int(input(\"Ingrese un numero: \"))\n",
    "if numero % 2 == 0:\n",
    "  print(\"Es par\")\n",
    "else :\n",
    "  print(\"Es impar\")\n"
   ]
  },
  {
   "cell_type": "code",
   "execution_count": null,
   "id": "bb35cfe7-f2dd-48ad-ba81-bc3d43f3a960",
   "metadata": {},
   "outputs": [],
   "source": []
  }
 ],
 "metadata": {
  "kernelspec": {
   "display_name": "Python 3 (ipykernel)",
   "language": "python",
   "name": "python3"
  },
  "language_info": {
   "codemirror_mode": {
    "name": "ipython",
    "version": 3
   },
   "file_extension": ".py",
   "mimetype": "text/x-python",
   "name": "python",
   "nbconvert_exporter": "python",
   "pygments_lexer": "ipython3",
   "version": "3.13.2"
  }
 },
 "nbformat": 4,
 "nbformat_minor": 5
}
