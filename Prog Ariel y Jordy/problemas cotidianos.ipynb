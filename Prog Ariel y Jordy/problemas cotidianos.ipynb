{
 "cells": [
  {
   "cell_type": "code",
   "execution_count": 1,
   "id": "a0187b8b-72a1-4342-bca9-eaaa37e79a7f",
   "metadata": {},
   "outputs": [
    {
     "name": "stdout",
     "output_type": "stream",
     "text": [
      "Escribir las horas trabajadas\n"
     ]
    }
   ],
   "source": [
    "print (\"Escribir las horas trabajadas\")"
   ]
  },
  {
   "cell_type": "code",
   "execution_count": 23,
   "id": "49b71beb-76d0-41c7-b318-2b5611d2ca94",
   "metadata": {},
   "outputs": [
    {
     "name": "stdout",
     "output_type": "stream",
     "text": [
      "Escribir las horas trabajadas y su salario por hora\n"
     ]
    },
    {
     "name": "stdin",
     "output_type": "stream",
     "text": [
      "SALARIO POR HORA 25\n",
      "HORAS TRABAJADAS A LA SEMANA  40\n"
     ]
    },
    {
     "name": "stdout",
     "output_type": "stream",
     "text": [
      "SU SUELDO A LA SEMANA ES 1000.0\n",
      "SU SUELDO AL MES ES 4000.0\n",
      "LAS DEDUCCIONES\n",
      "la deduccion a la semana es: 15.0\n",
      "la deduccion de sindicato al mes es: 60.0\n",
      "la deduccion de sindicato a la semana 2 10.0\n",
      "deducciccion al mes 2 40.0\n",
      "salario neto a la semana es 975.0\n",
      "salario neto al mes es 3900.0\n"
     ]
    }
   ],
   "source": [
    "import math \n",
    "\n",
    "print (\"Escribir las horas trabajadas y su salario por hora\")\n",
    "\n",
    "a = float (input(\"SALARIO POR HORA\"))\n",
    "b = float (input(\"HORAS TRABAJADAS A LA SEMANA \"))\n",
    "\n",
    "X1 = (a*b)\n",
    "X2 = (a*b*4)\n",
    "\n",
    "print (\"SU SUELDO A LA SEMANA ES\",X1)\n",
    "print (\"SU SUELDO AL MES ES\",X2)\n",
    "\n",
    "\n",
    "print (\"LAS DEDUCCIONES\")\n",
    "\n",
    "x3 = X1 * 0.015  \n",
    "x4 = X1 * (4 * 0.015)  \n",
    "x5 = X1 * 0.01 \n",
    "x6 = X2 * 0.01\n",
    "\n",
    "      \n",
    "print (\"la deduccion a la semana es:\",x3)\n",
    "print (\"la deduccion de sindicato al mes es:\",x4)\n",
    "print (\"la deduccion de sindicato a la semana 2\",x5)\n",
    "print (\"deducciccion al mes 2\",x6)\n",
    "\n",
    "print (\"salario neto a la semana es\",X1-x3-x5)\n",
    "print (\"salario neto al mes es\",X2-x4-x6)"
   ]
  },
  {
   "cell_type": "code",
   "execution_count": 1,
   "id": "1b947efa-9859-478c-93a4-935658482e1e",
   "metadata": {},
   "outputs": [
    {
     "name": "stdout",
     "output_type": "stream",
     "text": [
      "ejercicio #2\n"
     ]
    }
   ],
   "source": [
    "\n",
    "\n",
    "print (\"ejercicio #2\")"
   ]
  },
  {
   "cell_type": "code",
   "execution_count": 2,
   "id": "f18cbf2c-106c-4502-9fb3-de141f221672",
   "metadata": {},
   "outputs": [
    {
     "name": "stdout",
     "output_type": "stream",
     "text": [
      "la fomurla a utilizar es :'A = P (1+I)^N' \n"
     ]
    }
   ],
   "source": [
    "print (\"la fomurla a utilizar es :'A = P (1+I)^N' \")"
   ]
  },
  {
   "cell_type": "code",
   "execution_count": 2,
   "id": "022f712a-4b11-4ac3-9381-9d7345741e9e",
   "metadata": {},
   "outputs": [
    {
     "name": "stdin",
     "output_type": "stream",
     "text": [
      "CUANTO SE DEPOSITA AL ANO 1500\n",
      "DE CUANTO ES EL INTERES POR ANO  8\n",
      "POR CUANTOS A;OS ES SU CUENTA DE AHORRO POR ANO 5\n"
     ]
    },
    {
     "name": "stdout",
     "output_type": "stream",
     "text": [
      "el interes de 5.0 a;os es 2203.9921152000006\n"
     ]
    }
   ],
   "source": [
    "import math\n",
    "P =  float (input(\"CUANTO SE DEPOSITA AL ANO\"))\n",
    "I =  float (input(\"DE CUANTO ES EL INTERES POR ANO \"))\n",
    "N =  float (input(\"POR CUANTOS A;OS ES SU CUENTA DE AHORRO POR ANO\"))\n",
    "I=I/100\n",
    "A = P*math.pow((1+I),N)\n",
    "\n",
    "print (\"el interes de\",N ,\"a;os es\",A) \n"
   ]
  },
  {
   "cell_type": "code",
   "execution_count": 8,
   "id": "53685fff-5e66-4681-a316-bdaa44cbff23",
   "metadata": {},
   "outputs": [
    {
     "name": "stdout",
     "output_type": "stream",
     "text": [
      "PROGRAMA DE NUMEROS ALEATORIOS\n",
      "defina los numeros a seleccionar\n"
     ]
    },
    {
     "name": "stdin",
     "output_type": "stream",
     "text": [
      "Numero #1 1\n",
      "Numero #2 2\n",
      "Numero #3 3\n",
      "Numero #4 4\n",
      "Numero #5 5\n"
     ]
    },
    {
     "name": "stdout",
     "output_type": "stream",
     "text": [
      "0.6229016948897019\n",
      "El grupo #1 es: 3.0\n",
      "El grupo #2 es: 5.0\n",
      "El grupo #3 es: 1.0\n",
      "El grupo #4 es: 4.0\n",
      "El grupo #5 es: 2.0\n"
     ]
    }
   ],
   "source": [
    "import random\n",
    "print (\"PROGRAMA DE NUMEROS ALEATORIOS\")\n",
    "print (\"defina los numeros a seleccionar\")\n",
    "\n",
    "A = float(input(\"Numero #1\"))\n",
    "B = float(input(\"Numero #2\"))\n",
    "C = float(input(\"Numero #3\"))\n",
    "D = float(input(\"Numero #4\"))\n",
    "E = float(input(\"Numero #5\"))\n",
    "random.seed(5)\n",
    "print(random.random())\n",
    "\n",
    "numeros = [A, B, C, D, E]\n",
    "numero_aleatorio1 = random.randint(0, 4)\n",
    "numero_aleatorio2 = random.randint(0, 4)\n",
    "numero_aleatorio3 = random.randint(0, 4)\n",
    "numero_aleatorio4 = random.randint(0, 4)\n",
    "numero_aleatorio5 = random.randint(0, 4)\n",
    "\n",
    "print(\"El grupo #1 es:\", numeros[numero_aleatorio1])\n",
    "print(\"El grupo #2 es:\", numeros[numero_aleatorio2])\n",
    "print(\"El grupo #3 es:\", numeros[numero_aleatorio3])\n",
    "print(\"El grupo #4 es:\", numeros[numero_aleatorio4])\n",
    "print(\"El grupo #5 es:\", numeros[numero_aleatorio5])"
   ]
  },
  {
   "cell_type": "markdown",
   "id": "02b5ec97-88ed-441c-97b0-66634753fd41",
   "metadata": {},
   "source": [
    "ejercicicio #3 Gasolina"
   ]
  },
  {
   "cell_type": "code",
   "execution_count": 9,
   "id": "237abfe4-a0fb-41cd-abd4-86c37431505a",
   "metadata": {},
   "outputs": [
    {
     "name": "stdin",
     "output_type": "stream",
     "text": [
      "CUANTOS LITROS A COMPRADO 15\n"
     ]
    },
    {
     "name": "stdout",
     "output_type": "stream",
     "text": [
      "Galones comprados son: 4.615384615384615\n",
      "Total a pagar es: 375.0\n"
     ]
    }
   ],
   "source": [
    "\n",
    "litros = float(input(\"CUANTOS LITROS A COMPRADO\"))\n",
    "\n",
    "galon = litros/3.25\n",
    "print (\"Galones comprados son:\",galon)\n",
    "\n",
    "pago = litros *25\n",
    "\n",
    "print (\"Total a pagar es:\", pago)\n"
   ]
  },
  {
   "cell_type": "code",
   "execution_count": 11,
   "id": "649de6ad-69ba-4a6f-9551-5fce33f82db2",
   "metadata": {},
   "outputs": [
    {
     "name": "stdin",
     "output_type": "stream",
     "text": [
      "Cuantos dias alquilo el carro 10\n",
      "Cuantos kilometros recorrio  el carro 1200\n"
     ]
    },
    {
     "name": "stdout",
     "output_type": "stream",
     "text": [
      "el subtotal es: 5700.0\n",
      "El total a pagar mas los impuestos y los 800 de seguro es: 6270.0\n"
     ]
    }
   ],
   "source": [
    "dias = float(input(\"Cuantos dias alquilo el carro\"))\n",
    "km = float(input(\"Cuantos kilometros recorrio  el carro\"))\n",
    "seguro = 800\n",
    "\n",
    "kilometros = km*0.75\n",
    "dias = 400*dias\n",
    "subtotal = kilometros + dias + seguro\n",
    "impuesto = subtotal*(10/100)\n",
    "total_a_pagar = subtotal + impuesto\n",
    "\n",
    "print (\"el subtotal es:\",subtotal)\n",
    "print (\"El total a pagar mas los impuestos y los 800 de seguro es:\",total_a_pagar)"
   ]
  },
  {
   "cell_type": "code",
   "execution_count": 12,
   "id": "66a26738-7cd3-4833-a1ea-c8f3a0701a11",
   "metadata": {},
   "outputs": [
    {
     "name": "stdin",
     "output_type": "stream",
     "text": [
      "ingrese los kilometros a recorrer 800\n",
      "ingrese cuantos kilometros recorre su vehiculo con un galon 5\n"
     ]
    },
    {
     "name": "stdout",
     "output_type": "stream",
     "text": [
      "Usted va a gastar por recorrer 800.0 kilometros en galones: 6400.0\n"
     ]
    }
   ],
   "source": [
    "km = float(input(\"ingrese los kilometros a recorrer\"))\n",
    "galones = float(input(\"ingrese cuantos kilometros recorre su vehiculo con un galon\"))\n",
    "\n",
    "gasolina = 40.00\n",
    "galon = km/galones \n",
    "gasto= galon*gasolina\n",
    "\n",
    "print (\"Usted va a gastar por recorrer\",km,\"kilometros en galones:\",gasto)"
   ]
  },
  {
   "cell_type": "code",
   "execution_count": null,
   "id": "5505eabf-6d1b-4434-9323-81c0efecc5dc",
   "metadata": {},
   "outputs": [],
   "source": []
  }
 ],
 "metadata": {
  "kernelspec": {
   "display_name": "Python 3 (ipykernel)",
   "language": "python",
   "name": "python3"
  },
  "language_info": {
   "codemirror_mode": {
    "name": "ipython",
    "version": 3
   },
   "file_extension": ".py",
   "mimetype": "text/x-python",
   "name": "python",
   "nbconvert_exporter": "python",
   "pygments_lexer": "ipython3",
   "version": "3.13.2"
  }
 },
 "nbformat": 4,
 "nbformat_minor": 5
}
