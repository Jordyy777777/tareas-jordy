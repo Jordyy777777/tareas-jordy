{
 "cells": [
  {
   "cell_type": "code",
   "execution_count": 1,
   "id": "2a2efe31-7cb2-4eed-9a9f-1c354799d8ad",
   "metadata": {},
   "outputs": [
    {
     "data": {
      "text/plain": [
       "'esta \"palabra\" esta escrita entre doble comilla'"
      ]
     },
     "execution_count": 1,
     "metadata": {},
     "output_type": "execute_result"
    }
   ],
   "source": [
    "\"esta \\\"palabra\\\" esta escrita entre doble comilla\""
   ]
  },
  {
   "cell_type": "code",
   "execution_count": 3,
   "id": "c77ac3ba-7365-4007-8dcd-5f60fad50612",
   "metadata": {},
   "outputs": [
    {
     "data": {
      "text/plain": [
       "'4.paola '"
      ]
     },
     "execution_count": 3,
     "metadata": {},
     "output_type": "execute_result"
    }
   ],
   "source": [
    "\"1.Ariel \"\n",
    "\"2.Jordy\"\n",
   ]
  },
  {
   "cell_type": "code",
   "execution_count": 5,
   "id": "053e3f08-f848-41e4-b217-d6723f1209b2",
   "metadata": {},
   "outputs": [
    {
     "data": {
      "text/plain": [
       "\"esta 'palabra' esta escrita con comillas simples\""
      ]
     },
     "execution_count": 5,
     "metadata": {},
     "output_type": "execute_result"
    }
   ],
   "source": [
    "\"esta 'palabra' esta escrita con comillas simples\""
   ]
  },
  {
   "cell_type": "code",
   "execution_count": 6,
   "id": "9aae38e6-fd16-4810-baa1-4e3feca18266",
   "metadata": {},
   "outputs": [
    {
     "data": {
      "text/plain": [
       "\"esta 'palabra' esta escrita entre doble comilla\""
      ]
     },
     "execution_count": 6,
     "metadata": {},
     "output_type": "execute_result"
    }
   ],
   "source": [
    "'esta \\'palabra\\' esta escrita entre doble comilla'"
   ]
  },
  {
   "cell_type": "code",
   "execution_count": 1,
   "id": "04adc38a-21bc-4e42-8f92-c662316b4c23",
   "metadata": {},
   "outputs": [
    {
     "name": "stdout",
     "output_type": "stream",
     "text": [
      "Ariel\n",
      "Jordy\n",
     ]
    }
   ],
   "source": [
    "print(\"Ariel\")\n",
    "print('Jordy')\n",
   ]
  },
  {
   "cell_type": "code",
   "execution_count": 8,
   "id": "a434113d-02ad-453d-89e7-c7b2eb5bdcd5",
   "metadata": {},
   "outputs": [
    {
     "name": "stdout",
     "output_type": "stream",
     "text": [
      "un texto \tun tabulacion\n"
     ]
    }
   ],
   "source": [
    "print(\"un texto \\tun tabulacion\")"
   ]
  },
  {
   "cell_type": "code",
   "execution_count": 9,
   "id": "9534c1d7-4a1b-49f2-9690-2144745079a2",
   "metadata": {},
   "outputs": [
    {
     "name": "stdout",
     "output_type": "stream",
     "text": [
      "un texto\n",
      "una nueva linea\n"
     ]
    }
   ],
   "source": [
    "print(\"un texto\\nuna nueva linea\")\n"
   ]
  },
  {
   "cell_type": "code",
   "execution_count": 11,
   "id": "ef0f02e8-5d88-43ce-b832-02d4a80bb057",
   "metadata": {},
   "outputs": [
    {
     "name": "stdout",
     "output_type": "stream",
     "text": [
      "c:\\nombre\\directorio\n"
     ]
    },
    {
     "name": "stderr",
     "output_type": "stream",
     "text": [
      "<>:1: SyntaxWarning: invalid escape sequence '\\d'\n",
      "<>:1: SyntaxWarning: invalid escape sequence '\\d'\n",
      "C:\\Users\\PC1\\AppData\\Local\\Temp\\ipykernel_8500\\3328600052.py:1: SyntaxWarning: invalid escape sequence '\\d'\n",
      "  print(\"c:\\\\nombre\\directorio\") # r => raw (cruda)\n"
     ]
    }
   ],
   "source": [
    "print(\"c:\\\\nombre\\directorio\") # r => raw (cruda)"
   ]
  },
  {
   "cell_type": "code",
   "execution_count": 12,
   "id": "f6172652-2534-4d35-8f44-ccf3f1a09b6d",
   "metadata": {},
   "outputs": [
    {
     "name": "stdout",
     "output_type": "stream",
     "text": [
      "c:\\\\nombre\\directorio\n"
     ]
    }
   ],
   "source": [
    "print(r\"c:\\\\nombre\\directorio\") # r => raw (cruda)"
   ]
  },
  {
   "cell_type": "code",
   "execution_count": 13,
   "id": "01729eee-47c5-434c-b80a-fa409e8a9124",
   "metadata": {},
   "outputs": [
    {
     "name": "stdout",
     "output_type": "stream",
     "text": [
      " una linea\n",
      "otra linea\n",
      "otra linea\tuna tabulacion\n"
     ]
    }
   ],
   "source": [
    "print (\"\"\" una linea\n",
    "otra linea\n",
    "otra linea\\tuna tabulacion\"\"\")\n",
    "\n"
   ]
  },
  {
   "cell_type": "code",
   "execution_count": 5,
   "id": "5cf43a4d-d055-4cbf-bd25-df4ac9431065",
   "metadata": {},
   "outputs": [],
   "source": [
    "c = \"esto es una cadena\\ncon dos lineas\""
   ]
  },
  {
   "cell_type": "code",
   "execution_count": 15,
   "id": "2d56d451-137a-4283-87c4-a838bc534fa2",
   "metadata": {},
   "outputs": [
    {
     "data": {
      "text/plain": [
       "'esto es una cadena\\ncon dos lineas'"
      ]
     },
     "execution_count": 15,
     "metadata": {},
     "output_type": "execute_result"
    }
   ],
   "source": [
    "c"
   ]
  },
  {
   "cell_type": "code",
   "execution_count": 16,
   "id": "c632ad81-234e-45b0-bb65-dd1bdc63f75b",
   "metadata": {},
   "outputs": [
    {
     "name": "stdout",
     "output_type": "stream",
     "text": [
      "esto es una cadena\n",
      "con dos lineas\n"
     ]
    }
   ],
   "source": [
    "print (c)"
   ]
  },
  {
   "cell_type": "code",
   "execution_count": 6,
   "id": "5caab315-1e9b-4b83-abe1-0e58c36d8a31",
   "metadata": {},
   "outputs": [
    {
     "name": "stdout",
     "output_type": "stream",
     "text": [
      "esto es una cadena\n",
      "con dos lineasesto es una cadena\n",
      "con dos lineas\n"
     ]
    }
   ],
   "source": [
    "print ( c + c )"
   ]
  },
  {
   "cell_type": "code",
   "execution_count": 9,
   "id": "05a90514-2237-4ea3-9f42-155739a0506f",
   "metadata": {},
   "outputs": [
    {
     "name": "stdout",
     "output_type": "stream",
     "text": [
      "una cadenacompuesta de dos cadenas\n"
     ]
    }
   ],
   "source": [
    "s = \"una cadena\" \"compuesta de dos cadenas\"\n",
    "print (s)"
   ]
  },
  {
   "cell_type": "code",
   "execution_count": 10,
   "id": "3578e83b-a488-4596-82f0-3030b2ab5768",
   "metadata": {},
   "outputs": [
    {
     "name": "stdout",
     "output_type": "stream",
     "text": [
      "una cadenaotra cadena\n"
     ]
    }
   ],
   "source": [
    "c1 = \"una cadena\" \n",
    "c2 = \"otra cadena\"\n",
    "print (\"una cadena\" + c2)"
   ]
  },
  {
   "cell_type": "code",
   "execution_count": 15,
   "id": "1c8d0f39-81e2-49a6-be02-54c0801600f9",
   "metadata": {},
   "outputs": [
    {
     "name": "stdout",
     "output_type": "stream",
     "text": [
      "          un texto a diez espacios\n"
     ]
    }
   ],
   "source": [
    "diez_espacios = \" \"*10\n",
    "print (diez_espacios + \"un texto a diez espacios\")"
   ]
  },
  {
   "cell_type": "code",
   "execution_count": 20,
   "id": "3309d7fa-5161-4e60-8dd0-ac01932b1129",
   "metadata": {},
   "outputs": [],
   "source": [
    "palabra = \"python\""
   ]
  },
  {
   "cell_type": "markdown",
   "id": "2cd0e2f7-ff0a-4701-829a-85211b9c382f",
   "metadata": {},
   "source": [
    "###### palabra[0] # caracter en la posicion 0"
   ]
  },
  {
   "cell_type": "code",
   "execution_count": 22,
   "id": "8ea11d34-aac6-4bc1-8421-9758acea0c4f",
   "metadata": {},
   "outputs": [
    {
     "data": {
      "text/plain": [
       "'h'"
      ]
     },
     "execution_count": 22,
     "metadata": {},
     "output_type": "execute_result"
    }
   ],
   "source": [
    "palabra [3]"
   ]
  },
  {
   "cell_type": "code",
   "execution_count": 23,
   "id": "9483e7aa-a250-45bf-99a5-f859f61ba2fc",
   "metadata": {},
   "outputs": [
    {
     "data": {
      "text/plain": [
       "'n'"
      ]
     },
     "execution_count": 23,
     "metadata": {},
     "output_type": "execute_result"
    }
   ],
   "source": [
    "palabra [-1]"
   ]
  },
  {
   "cell_type": "code",
   "execution_count": 24,
   "id": "a4aef0be-bc6d-44d9-a034-fecd2fe29f3a",
   "metadata": {},
   "outputs": [
    {
     "data": {
      "text/plain": [
       "'o'"
      ]
     },
     "execution_count": 24,
     "metadata": {},
     "output_type": "execute_result"
    }
   ],
   "source": [
    "palabra [-2]"
   ]
  },
  {
   "cell_type": "code",
   "execution_count": 25,
   "id": "744f7d15-9a75-433b-966c-8a35e6610899",
   "metadata": {},
   "outputs": [
    {
     "data": {
      "text/plain": [
       "'h'"
      ]
     },
     "execution_count": 25,
     "metadata": {},
     "output_type": "execute_result"
    }
   ],
   "source": [
    "palabra [-3]"
   ]
  },
  {
   "cell_type": "code",
   "execution_count": 26,
   "id": "f79502ad-a3cd-4f74-83d9-4376dab26098",
   "metadata": {},
   "outputs": [
    {
     "data": {
      "text/plain": [
       "'t'"
      ]
     },
     "execution_count": 26,
     "metadata": {},
     "output_type": "execute_result"
    }
   ],
   "source": [
    "palabra [-4]"
   ]
  },
  {
   "cell_type": "code",
   "execution_count": 27,
   "id": "3eb2e7c1-6e14-40f1-b148-ed543e439134",
   "metadata": {},
   "outputs": [
    {
     "data": {
      "text/plain": [
       "'y'"
      ]
     },
     "execution_count": 27,
     "metadata": {},
     "output_type": "execute_result"
    }
   ],
   "source": [
    "palabra [-5]"
   ]
  },
  {
   "cell_type": "code",
   "execution_count": 28,
   "id": "45ca5387-ea48-4435-a24c-4c46245d241c",
   "metadata": {},
   "outputs": [
    {
     "data": {
      "text/plain": [
       "'p'"
      ]
     },
     "execution_count": 28,
     "metadata": {},
     "output_type": "execute_result"
    }
   ],
   "source": [
    "palabra [-6]"
   ]
  },
  {
   "cell_type": "code",
   "execution_count": 53,
   "id": "0905e37d-125c-409c-b60e-e810d4e89a9f",
   "metadata": {},
   "outputs": [],
   "source": [
    "palabra = \"python\""
   ]
  },
  {
   "cell_type": "code",
   "execution_count": 32,
   "id": "c1cb6c39-fd88-4623-a42d-6ae7da18fc1c",
   "metadata": {},
   "outputs": [
    {
     "data": {
      "text/plain": [
       "'p'"
      ]
     },
     "execution_count": 32,
     "metadata": {},
     "output_type": "execute_result"
    }
   ],
   "source": [
    "palabra [0]"
   ]
  },
  {
   "cell_type": "code",
   "execution_count": 61,
   "id": "aac68216-1d31-4203-a042-1fbd219ee47e",
   "metadata": {},
   "outputs": [],
   "source": [
    "palabra = \"Python\""
   ]
  },
  {
   "cell_type": "code",
   "execution_count": 10,
   "id": "77cbe1fc-61ba-4fc1-b26b-a1b303e10447",
   "metadata": {},
   "outputs": [
    {
     "data": {
      "text/plain": [
       "'Py'"
      ]
     },
     "execution_count": 10,
     "metadata": {},
     "output_type": "execute_result"
    }
   ],
   "source": [
    "palabra[0:2]"
   ]
  },
  {
   "cell_type": "code",
   "execution_count": 5,
   "id": "77e3f9ee-eb93-4e87-aa2b-e6b1ed32e1dc",
   "metadata": {},
   "outputs": [
    {
     "data": {
      "text/plain": [
       "'thon'"
      ]
     },
     "execution_count": 5,
     "metadata": {},
     "output_type": "execute_result"
    }
   ],
   "source": [
    "palabra[2:]"
   ]
  },
  {
   "cell_type": "code",
   "execution_count": 6,
   "id": "72bde3d7-03ff-43fc-8dd2-acd52cd9566c",
   "metadata": {},
   "outputs": [
    {
     "data": {
      "text/plain": [
       "'Py'"
      ]
     },
     "execution_count": 6,
     "metadata": {},
     "output_type": "execute_result"
    }
   ],
   "source": [
    "palabra[:2]"
   ]
  },
  {
   "cell_type": "code",
   "execution_count": 9,
   "id": "b143f0c7-0688-4154-8031-fbb8c8c4983f",
   "metadata": {},
   "outputs": [
    {
     "data": {
      "text/plain": [
       "'Pytho'"
      ]
     },
     "execution_count": 9,
     "metadata": {},
     "output_type": "execute_result"
    }
   ],
   "source": [
    "palabra[:5]"
   ]
  },
  {
   "cell_type": "code",
   "execution_count": 12,
   "id": "f45a8571-62ad-45e9-8618-5dfb0bb4c51b",
   "metadata": {},
   "outputs": [
    {
     "data": {
      "text/plain": [
       "'Python'"
      ]
     },
     "execution_count": 12,
     "metadata": {},
     "output_type": "execute_result"
    }
   ],
   "source": [
    "palabra[:2] + palabra[2:]"
   ]
  },
  {
   "cell_type": "code",
   "execution_count": 13,
   "id": "7ae3d273-7a73-44ed-b6ed-b8e66ae0673b",
   "metadata": {},
   "outputs": [
    {
     "data": {
      "text/plain": [
       "'Python'"
      ]
     },
     "execution_count": 13,
     "metadata": {},
     "output_type": "execute_result"
    }
   ],
   "source": [
    "palabra[:]"
   ]
  },
  {
   "cell_type": "code",
   "execution_count": 14,
   "id": "64ac4432-4a68-4dfb-8db9-122f79a96d74",
   "metadata": {},
   "outputs": [
    {
     "data": {
      "text/plain": [
       "'on'"
      ]
     },
     "execution_count": 14,
     "metadata": {},
     "output_type": "execute_result"
    }
   ],
   "source": [
    "palabra[-2:]"
   ]
  },
  {
   "cell_type": "code",
   "execution_count": 15,
   "id": "15e8c781-8bc4-466c-8548-fb2b8aef9137",
   "metadata": {},
   "outputs": [
    {
     "data": {
      "text/plain": [
       "'thon'"
      ]
     },
     "execution_count": 15,
     "metadata": {},
     "output_type": "execute_result"
    }
   ],
   "source": [
    "palabra[-4:]"
   ]
  },
  {
   "cell_type": "code",
   "execution_count": 33,
   "id": "7bdbcfb0-557a-4c53-8d6e-cfb6996e8b50",
   "metadata": {},
   "outputs": [
    {
     "data": {
      "text/plain": [
       "''"
      ]
     },
     "execution_count": 33,
     "metadata": {},
     "output_type": "execute_result"
    }
   ],
   "source": [
    "palabra[99:]"
   ]
  },
  {
   "cell_type": "code",
   "execution_count": 30,
   "id": "9f29bb19-7af7-4e59-85de-c29121f3fffa",
   "metadata": {},
   "outputs": [
    {
     "data": {
      "text/plain": [
       "'Python\\npython\\npythonPython\\npython\\npythonPython\\npython\\npythonPython\\npython\\npythonPython\\npython\\npythonPython\\npython\\npythonPython\\npython\\npythonPython\\npython\\npythonPython\\npython\\npythonPython\\npython\\npython'"
      ]
     },
     "execution_count": 30,
     "metadata": {},
     "output_type": "execute_result"
    }
   ],
   "source": [
    "palabra [:]*10"
   ]
  },
  {
   "cell_type": "code",
   "execution_count": 39,
   "id": "61fc16de-66ec-4255-8f33-2a6ed712ab5a",
   "metadata": {},
   "outputs": [
    {
     "name": "stdout",
     "output_type": "stream",
     "text": [
      "Python\n",
      "pythonPython\n",
      "pythonPython\n",
      "pythonPython\n",
      "pythonPython\n",
      "pythonPython\n",
      "pythonPython\n",
      "pythonPython\n",
      "pythonPython\n",
      "pythonPython\n",
      "python\n"
     ]
    }
   ],
   "source": [
    "print (palabra*10)"
   ]
  },
  {
   "cell_type": "code",
   "execution_count": 41,
   "id": "a22a0a1c-4e0f-4c69-8e35-6520f60eb85e",
   "metadata": {},
   "outputs": [
    {
     "ename": "TypeError",
     "evalue": "'str' object does not support item assignment",
     "output_type": "error",
     "traceback": [
      "\u001b[1;31m---------------------------------------------------------------------------\u001b[0m",
      "\u001b[1;31mTypeError\u001b[0m                                 Traceback (most recent call last)",
      "Cell \u001b[1;32mIn[41], line 1\u001b[0m\n\u001b[1;32m----> 1\u001b[0m \u001b[43mpalabra\u001b[49m\u001b[43m[\u001b[49m\u001b[38;5;241;43m0\u001b[39;49m\u001b[43m]\u001b[49m \u001b[38;5;241m=\u001b[39m \u001b[38;5;124m\"\u001b[39m\u001b[38;5;124mN\u001b[39m\u001b[38;5;124m\"\u001b[39m \n",
      "\u001b[1;31mTypeError\u001b[0m: 'str' object does not support item assignment"
     ]
    }
   ],
   "source": [
    "palabra[0] = \"N\" "
   ]
  },
  {
   "cell_type": "code",
   "execution_count": 62,
   "id": "fe1bb3ca-91e2-429b-adcb-d64aedbe3144",
   "metadata": {},
   "outputs": [
    {
     "data": {
      "text/plain": [
       "'Nython'"
      ]
     },
     "execution_count": 62,
     "metadata": {},
     "output_type": "execute_result"
    }
   ],
   "source": [
    "palabra = \"N\" + palabra[1:] \n",
    "palabra\n"
   ]
  },
  {
   "cell_type": "code",
   "execution_count": 63,
   "id": "e35519e2-a0c2-4046-88f3-efa5c735986e",
   "metadata": {},
   "outputs": [
    {
     "data": {
      "text/plain": [
       "6"
      ]
     },
     "execution_count": 63,
     "metadata": {},
     "output_type": "execute_result"
    }
   ],
   "source": [
    "len(palabra)"
   ]
  },
  {
   "cell_type": "markdown",
   "id": "4db633eb-40d2-4e80-b64f-a0fb9c4b4beb",
   "metadata": {},
   "source": [
    "LAS LISTAS \n",
    "tipo compuesto de datos que puede almacenar distintos valores"
   ]
  },
  {
   "cell_type": "code",
   "execution_count": 64,
   "id": "3239838e-4092-4dc1-8de8-c7fb119728cd",
   "metadata": {},
   "outputs": [],
   "source": [
    "numeros = [1,2,3,4,5,6,7,8,9,10]"
   ]
  },
  {
   "cell_type": "code",
   "execution_count": 72,
   "id": "62525eac-cc9e-41ee-af52-6315d083f80f",
   "metadata": {},
   "outputs": [],
   "source": [
    "datos = [4,\"una cadena\",-15,3.14,\"otra cadena\"]"
   ]
  },
  {
   "cell_type": "code",
   "execution_count": 66,
   "id": "5ca87ae1-4127-433c-9436-4c8d4dd7a81e",
   "metadata": {},
   "outputs": [
    {
     "data": {
      "text/plain": [
       "4"
      ]
     },
     "execution_count": 66,
     "metadata": {},
     "output_type": "execute_result"
    }
   ],
   "source": [
    "datos[0]"
   ]
  },
  {
   "cell_type": "code",
   "execution_count": 67,
   "id": "90d147be-1d87-441d-9ed3-a6d6ff263ed4",
   "metadata": {},
   "outputs": [
    {
     "data": {
      "text/plain": [
       "'una cadena'"
      ]
     },
     "execution_count": 67,
     "metadata": {},
     "output_type": "execute_result"
    }
   ],
   "source": [
    "datos[1]"
   ]
  },
  {
   "cell_type": "code",
   "execution_count": 73,
   "id": "9e37acf7-dd57-46e1-9f7e-4636509fe35a",
   "metadata": {},
   "outputs": [
    {
     "name": "stdout",
     "output_type": "stream",
     "text": [
      "4\n",
      "una cadena\n",
      "-15\n",
      "3.14\n",
      "otra cadena\n"
     ]
    }
   ],
   "source": [
    "print (datos[0])\n",
    "print (datos[1])\n",
    "print (datos[2])\n",
    "print (datos[3])\n",
    "print (datos[4])"
   ]
  },
  {
   "cell_type": "code",
   "execution_count": 74,
   "id": "b42dc507-a0bc-4f56-be75-efcbdf0d7fd9",
   "metadata": {},
   "outputs": [
    {
     "data": {
      "text/plain": [
       "[3.14, 'otra cadena']"
      ]
     },
     "execution_count": 74,
     "metadata": {},
     "output_type": "execute_result"
    }
   ],
   "source": [
    "datos [-2:]"
   ]
  },
  {
   "cell_type": "code",
   "execution_count": 75,
   "id": "b2193085-14ae-404a-9029-c83ae496921f",
   "metadata": {},
   "outputs": [
    {
     "data": {
      "text/plain": [
       "'n'"
      ]
     },
     "execution_count": 75,
     "metadata": {},
     "output_type": "execute_result"
    }
   ],
   "source": [
    "datos [1][8]"
   ]
  },
  {
   "cell_type": "code",
   "execution_count": 76,
   "id": "cf3f14fc-bccc-4571-9000-fa6626bfc33d",
   "metadata": {},
   "outputs": [],
   "source": [
    "c=3.14"
   ]
  },
  {
   "cell_type": "code",
   "execution_count": 85,
   "id": "c46143bc-ffec-405a-b6e9-80c7ab664451",
   "metadata": {},
   "outputs": [
    {
     "data": {
      "text/plain": [
       "'.'"
      ]
     },
     "execution_count": 85,
     "metadata": {},
     "output_type": "execute_result"
    }
   ],
   "source": [
    "type (c)\n",
    "c1 = str(c)\n",
    "c1 [1:2]"
   ]
  },
  {
   "cell_type": "code",
   "execution_count": 86,
   "id": "163c0ea2-0ee3-4f8f-acae-82f023531030",
   "metadata": {},
   "outputs": [
    {
     "data": {
      "text/plain": [
       "[1, 2, 3, 4, 5, 6, 7, 8, 9, 10, 11, 12, 13, 14, 15, 16, 17, 18, 19, 20]"
      ]
     },
     "execution_count": 86,
     "metadata": {},
     "output_type": "execute_result"
    }
   ],
   "source": [
    "numeros + [11,12,13,14,15,16,17,18,19,20]"
   ]
  },
  {
   "cell_type": "code",
   "execution_count": 6,
   "id": "b727732e-042d-426f-94c2-85043cb96064",
   "metadata": {},
   "outputs": [],
   "source": [
    "pares = [0,2,4,5,8,10]"
   ]
  },
  {
   "cell_type": "code",
   "execution_count": 2,
   "id": "3bb98c01-293d-4a73-b5ea-699a7dcf7daa",
   "metadata": {},
   "outputs": [],
   "source": [
    "pares[3]=6"
   ]
  },
  {
   "cell_type": "code",
   "execution_count": 3,
   "id": "9cb73f8e-35c1-4484-acd3-1ff8187b44e5",
   "metadata": {},
   "outputs": [
    {
     "data": {
      "text/plain": [
       "[0, 2, 4, 6, 8, 10]"
      ]
     },
     "execution_count": 3,
     "metadata": {},
     "output_type": "execute_result"
    }
   ],
   "source": [
    "pares"
   ]
  },
  {
   "cell_type": "code",
   "execution_count": 7,
   "id": "24386a90-cef5-479c-8782-561aef732963",
   "metadata": {},
   "outputs": [],
   "source": [
    "pares.append(12)"
   ]
  },
  {
   "cell_type": "raw",
   "id": "d33e96a8-3354-4298-8b35-b52eb0d60d0b",
   "metadata": {},
   "source": [
    "pares"
   ]
  },
  {
   "cell_type": "code",
   "execution_count": null,
   "id": "5acc0e4b-43e6-4461-8c17-e749e4e48949",
   "metadata": {},
   "outputs": [],
   "source": []
  }
 ],
 "metadata": {
  "kernelspec": {
   "display_name": "Python 3 (ipykernel)",
   "language": "python",
   "name": "python3"
  },
  "language_info": {
   "codemirror_mode": {
    "name": "ipython",
    "version": 3
   },
   "file_extension": ".py",
   "mimetype": "text/x-python",
   "name": "python",
   "nbconvert_exporter": "python",
   "pygments_lexer": "ipython3",
   "version": "3.13.2"
  }
 },
 "nbformat": 4,
 "nbformat_minor": 5
}
